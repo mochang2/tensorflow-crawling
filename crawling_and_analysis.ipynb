{
 "cells": [
  {
   "cell_type": "code",
   "execution_count": 2,
   "metadata": {},
   "outputs": [],
   "source": [
    "import tensorflow as tf\n",
    "import pandas as pd\n",
    "import matplotlib.pyplot as plt\n",
    "import numpy as np\n",
    "%matplotlib inline"
   ]
  },
  {
   "cell_type": "code",
   "execution_count": 3,
   "metadata": {},
   "outputs": [],
   "source": [
    "df=pd.read_csv(r\"C:\\Users\\이창모\\Desktop\\대학생활\\3-2\\carrot_popular_sales.csv\",\n",
    "               engine='python',encoding='cp949')"
   ]
  },
  {
   "cell_type": "code",
   "execution_count": 4,
   "metadata": {},
   "outputs": [
    {
     "data": {
      "text/html": [
       "<div>\n",
       "<style scoped>\n",
       "    .dataframe tbody tr th:only-of-type {\n",
       "        vertical-align: middle;\n",
       "    }\n",
       "\n",
       "    .dataframe tbody tr th {\n",
       "        vertical-align: top;\n",
       "    }\n",
       "\n",
       "    .dataframe thead th {\n",
       "        text-align: right;\n",
       "    }\n",
       "</style>\n",
       "<table border=\"1\" class=\"dataframe\">\n",
       "  <thead>\n",
       "    <tr style=\"text-align: right;\">\n",
       "      <th></th>\n",
       "      <th>manner_temperature</th>\n",
       "      <th>chatting</th>\n",
       "      <th>interest</th>\n",
       "    </tr>\n",
       "  </thead>\n",
       "  <tbody>\n",
       "    <tr>\n",
       "      <th>0</th>\n",
       "      <td>36.5</td>\n",
       "      <td>52</td>\n",
       "      <td>14</td>\n",
       "    </tr>\n",
       "    <tr>\n",
       "      <th>1</th>\n",
       "      <td>37.1</td>\n",
       "      <td>25</td>\n",
       "      <td>15</td>\n",
       "    </tr>\n",
       "    <tr>\n",
       "      <th>2</th>\n",
       "      <td>45.4</td>\n",
       "      <td>11</td>\n",
       "      <td>2</td>\n",
       "    </tr>\n",
       "    <tr>\n",
       "      <th>3</th>\n",
       "      <td>40.2</td>\n",
       "      <td>25</td>\n",
       "      <td>11</td>\n",
       "    </tr>\n",
       "    <tr>\n",
       "      <th>4</th>\n",
       "      <td>37.0</td>\n",
       "      <td>29</td>\n",
       "      <td>6</td>\n",
       "    </tr>\n",
       "    <tr>\n",
       "      <th>...</th>\n",
       "      <td>...</td>\n",
       "      <td>...</td>\n",
       "      <td>...</td>\n",
       "    </tr>\n",
       "    <tr>\n",
       "      <th>91</th>\n",
       "      <td>45.6</td>\n",
       "      <td>11</td>\n",
       "      <td>8</td>\n",
       "    </tr>\n",
       "    <tr>\n",
       "      <th>92</th>\n",
       "      <td>42.6</td>\n",
       "      <td>3</td>\n",
       "      <td>3</td>\n",
       "    </tr>\n",
       "    <tr>\n",
       "      <th>93</th>\n",
       "      <td>50.7</td>\n",
       "      <td>11</td>\n",
       "      <td>2</td>\n",
       "    </tr>\n",
       "    <tr>\n",
       "      <th>94</th>\n",
       "      <td>36.4</td>\n",
       "      <td>4</td>\n",
       "      <td>4</td>\n",
       "    </tr>\n",
       "    <tr>\n",
       "      <th>95</th>\n",
       "      <td>38.4</td>\n",
       "      <td>24</td>\n",
       "      <td>4</td>\n",
       "    </tr>\n",
       "  </tbody>\n",
       "</table>\n",
       "<p>96 rows × 3 columns</p>\n",
       "</div>"
      ],
      "text/plain": [
       "    manner_temperature  chatting  interest\n",
       "0                 36.5        52        14\n",
       "1                 37.1        25        15\n",
       "2                 45.4        11         2\n",
       "3                 40.2        25        11\n",
       "4                 37.0        29         6\n",
       "..                 ...       ...       ...\n",
       "91                45.6        11         8\n",
       "92                42.6         3         3\n",
       "93                50.7        11         2\n",
       "94                36.4         4         4\n",
       "95                38.4        24         4\n",
       "\n",
       "[96 rows x 3 columns]"
      ]
     },
     "execution_count": 4,
     "metadata": {},
     "output_type": "execute_result"
    }
   ],
   "source": [
    "df"
   ]
  },
  {
   "cell_type": "code",
   "execution_count": 5,
   "metadata": {},
   "outputs": [],
   "source": [
    "x_data=df.iloc[:,[0]].values  #manner_temperature\n",
    "y1_data=df.iloc[:,[1]].values #chatting\n",
    "y2_data=df.iloc[:,[2]].values #interest"
   ]
  },
  {
   "cell_type": "code",
   "execution_count": 6,
   "metadata": {},
   "outputs": [
    {
     "name": "stdout",
     "output_type": "stream",
     "text": [
      "(96, 1)\n"
     ]
    }
   ],
   "source": [
    "print(x_data.shape)"
   ]
  },
  {
   "cell_type": "code",
   "execution_count": 7,
   "metadata": {},
   "outputs": [],
   "source": [
    "x_data = np.array(x_data, np.float32)\n",
    "y1_data = np.array(y1_data, np.float32)\n",
    "y2_data = np.array(y2_data, np.float32)"
   ]
  },
  {
   "cell_type": "code",
   "execution_count": 8,
   "metadata": {},
   "outputs": [
    {
     "name": "stdout",
     "output_type": "stream",
     "text": [
      "(96, 1)\n",
      "(96, 1)\n",
      "(96, 1)\n"
     ]
    }
   ],
   "source": [
    "print(x_data.shape)\n",
    "print(y1_data.shape)\n",
    "print(y2_data.shape)"
   ]
  },
  {
   "cell_type": "code",
   "execution_count": 10,
   "metadata": {},
   "outputs": [],
   "source": [
    "tf.random.set_seed(2000)\n",
    "\n",
    "W1=tf.Variable(tf.random.normal([1, 1], mean=0.0))\n",
    "b1=tf.Variable(tf.random.normal([1], mean=0.0))\n",
    "W2=tf.Variable(tf.random.normal([1,1], mean = 0.0))\n",
    "b2=tf.Variable(tf.random.normal([1], mean = 0.0))"
   ]
  },
  {
   "cell_type": "code",
   "execution_count": 11,
   "metadata": {},
   "outputs": [],
   "source": [
    "def hypothesis1(x):\n",
    "    return tf.matmul(x, W1) + b1\n",
    "\n",
    "def hypothesis2(x):\n",
    "    return tf.matmul(x, W2) + b2\n",
    "\n",
    "def cost(hypo, y):\n",
    "    return tf.reduce_mean(tf.square(hypo-y))"
   ]
  },
  {
   "cell_type": "code",
   "execution_count": 12,
   "metadata": {},
   "outputs": [],
   "source": [
    "optimizer=tf.optimizers.SGD(learning_rate=0.00001)"
   ]
  },
  {
   "cell_type": "code",
   "execution_count": 18,
   "metadata": {},
   "outputs": [
    {
     "name": "stdout",
     "output_type": "stream",
     "text": [
      "cost1: \t 649.45215\n",
      "W1: \t [[-0.28476083]]\n",
      "b1: \t [-0.47846982]\n",
      "\n",
      "\n",
      "cost2: \t 1580.4491\n",
      "W2: \t [[-0.8318338]]\n",
      "b2: \t [0.36785746]\n",
      "\n",
      "\n",
      "cost1: \t 61.78424\n",
      "W1: \t [[0.3054771]]\n",
      "b1: \t [-0.37064534]\n",
      "\n",
      "\n",
      "cost2: \t 22.894974\n",
      "W2: \t [[0.13187048]]\n",
      "b2: \t [0.43402874]\n",
      "\n",
      "\n",
      "cost1: \t 61.698486\n",
      "W1: \t [[0.30316827]]\n",
      "b1: \t [-0.27808148]\n",
      "\n",
      "\n",
      "cost2: \t 22.877375\n",
      "W2: \t [[0.1308237]]\n",
      "b2: \t [0.47597662]\n",
      "\n",
      "\n",
      "cost1: \t 61.613544\n",
      "W1: \t [[0.30086982]]\n",
      "b1: \t [-0.18593603]\n",
      "\n",
      "\n",
      "cost2: \t 22.859955\n",
      "W2: \t [[0.12978297]]\n",
      "b2: \t [0.51769984]\n",
      "\n",
      "\n",
      "cost1: \t 61.529446\n",
      "W1: \t [[0.298583]]\n",
      "b1: \t [-0.09425601]\n",
      "\n",
      "\n",
      "cost2: \t 22.84263\n",
      "W2: \t [[0.12874271]]\n",
      "b2: \t [0.55940455]\n",
      "\n",
      "\n",
      "cost1: \t 61.446156\n",
      "W1: \t [[0.2963073]]\n",
      "b1: \t [-0.00302198]\n",
      "\n",
      "\n",
      "cost2: \t 22.825628\n",
      "W2: \t [[0.12771685]]\n",
      "b2: \t [0.60053176]\n",
      "\n",
      "\n",
      "cost1: \t 61.363674\n",
      "W1: \t [[0.29404265]]\n",
      "b1: \t [0.08776934]\n",
      "\n",
      "\n",
      "cost2: \t 22.808706\n",
      "W2: \t [[0.126691]]\n",
      "b2: \t [0.64165896]\n",
      "\n",
      "\n",
      "cost1: \t 61.281994\n",
      "W1: \t [[0.29178914]]\n",
      "b1: \t [0.17811392]\n",
      "\n",
      "\n",
      "cost2: \t 22.791883\n",
      "W2: \t [[0.125666]]\n",
      "b2: \t [0.6827519]\n",
      "\n",
      "\n",
      "cost1: \t 61.20111\n",
      "W1: \t [[0.28954646]]\n",
      "b1: \t [0.2680234]\n",
      "\n",
      "\n",
      "cost2: \t 22.775366\n",
      "W2: \t [[0.12465512]]\n",
      "b2: \t [0.72328305]\n",
      "\n",
      "\n",
      "cost1: \t 61.120987\n",
      "W1: \t [[0.28731412]]\n",
      "b1: \t [0.3575201]\n",
      "\n",
      "\n",
      "cost2: \t 22.758934\n",
      "W2: \t [[0.12364414]]\n",
      "b2: \t [0.7638142]\n",
      "\n",
      "\n",
      "cost1: \t 61.041683\n",
      "W1: \t [[0.28509384]]\n",
      "b1: \t [0.44653326]\n",
      "\n",
      "\n",
      "cost2: \t 22.74259\n",
      "W2: \t [[0.12263381]]\n",
      "b2: \t [0.8043186]\n",
      "\n",
      "\n"
     ]
    }
   ],
   "source": [
    "for step in range(100001):  #10만번 진행\n",
    "    #regression with chatting\n",
    "    with tf.GradientTape() as g:\n",
    "        pred1=hypothesis1(x_data)\n",
    "        co1=cost(pred1, y1_data)\n",
    "     \n",
    "        gradients1=g.gradient(co1, [W1,b1])\n",
    "   \n",
    "    optimizer.apply_gradients(zip(gradients1, [W1,b1]))\n",
    "\n",
    "    if step % 10000 == 0:\n",
    "        print(\"cost1: \\t\", co1.numpy())\n",
    "        print(\"W1: \\t\", W1.numpy())\n",
    "        print(\"b1: \\t\", b1.numpy())\n",
    "        print(\"\\n\")\n",
    "        \n",
    "    #regression with interest\n",
    "    with tf.GradientTape() as g:             \n",
    "        pred2=hypothesis2(x_data)\n",
    "        co2=cost(pred2, y2_data)\n",
    "        \n",
    "        gradients2=g.gradient(co2, [W2,b2])\n",
    "        \n",
    "    optimizer.apply_gradients(zip(gradients2, [W2,b2]))\n",
    "        \n",
    "    if step % 10000 == 0:\n",
    "        print(\"cost2: \\t\", co2.numpy())\n",
    "        print(\"W2: \\t\", W2.numpy())\n",
    "        print(\"b2: \\t\", b2.numpy())\n",
    "        print(\"\\n\")"
   ]
  },
  {
   "cell_type": "code",
   "execution_count": 21,
   "metadata": {},
   "outputs": [
    {
     "name": "stdout",
     "output_type": "stream",
     "text": [
      "83.8\n"
     ]
    }
   ],
   "source": [
    "print(np.max(x_data))"
   ]
  },
  {
   "cell_type": "code",
   "execution_count": 27,
   "metadata": {},
   "outputs": [
    {
     "name": "stdout",
     "output_type": "stream",
     "text": [
      "(50,)\n",
      "(50,)\n",
      "(50,)\n"
     ]
    },
    {
     "data": {
      "image/png": "[encoded data removed]",
      "text/plain": [
       "<Figure size 432x288 with 1 Axes>"
      ]
     },
     "metadata": {
      "needs_background": "light"
     },
     "output_type": "display_data"
    }
   ],
   "source": [
    "slope1 = W1.numpy()[0] #chatting의 기울기\n",
    "slope2 = W2.numpy()[0] #interest의 기울기\n",
    "\n",
    "xx=np.linspace(np.min(x_data), np.max(x_data))\n",
    "yy1=xx*slope1 + b1.numpy()\n",
    "yy2=xx*slope2 + b2.numpy()\n",
    "print(xx.shape)\n",
    "print(yy1.shape)\n",
    "print(yy2.shape)\n",
    "\n",
    "\n",
    "plt.plot(xx, yy1, label=\"chatting\")\n",
    "plt.plot(xx, yy2, label=\"interest\")\n",
    "plt.legend()\n",
    "plt.xlim(35,90)\n",
    "plt.xlabel(\"manner_temperature\")\n",
    "plt.show()"
   ]
  },
  {
   "cell_type": "code",
   "execution_count": 28,
   "metadata": {},
   "outputs": [],
   "source": [
    "#결론: manner_temperature과 chatting의 상관관계가 더 크다"
   ]
  },
  {
   "cell_type": "code",
   "execution_count": null,
   "metadata": {},
   "outputs": [],
   "source": []
  }
 ],
 "metadata": {
  "kernelspec": {
   "display_name": "Python 3",
   "language": "python",
   "name": "python3"
  },
  "language_info": {
   "codemirror_mode": {
    "name": "ipython",
    "version": 3
   },
   "file_extension": ".py",
   "mimetype": "text/x-python",
   "name": "python",
   "nbconvert_exporter": "python",
   "pygments_lexer": "ipython3",
   "version": "3.7.6"
  }
 },
 "nbformat": 4,
 "nbformat_minor": 4
}
